{
 "cells": [
  {
   "cell_type": "code",
   "execution_count": 1,
   "id": "da732971-8414-41fd-b22a-e68438545bc0",
   "metadata": {},
   "outputs": [],
   "source": [
    " #Q1. Explain with an example each when to use a for loop and a while loop?\n",
    "\n",
    "#For loops are used when you have a known number of iterations or when you want to iterate through a sequence \n",
    "#(list, tuple, string, etc.) to perform an action for each item in the sequence."
   ]
  },
  {
   "cell_type": "code",
   "execution_count": 2,
   "id": "e11ff349-a33a-4848-af1f-af9745ced1eb",
   "metadata": {},
   "outputs": [
    {
     "name": "stdout",
     "output_type": "stream",
     "text": [
      "0\n",
      "1\n",
      "2\n",
      "3\n",
      "4\n",
      "5\n",
      "6\n",
      "7\n",
      "8\n",
      "9\n"
     ]
    }
   ],
   "source": [
    "#Example:-\n",
    "# print the numbers 0 to 9\n",
    "for i in range(10):\n",
    "    print(i)"
   ]
  },
  {
   "cell_type": "code",
   "execution_count": 3,
   "id": "4d6ad936-adf6-480a-953f-025f98eb95cb",
   "metadata": {},
   "outputs": [
    {
     "name": "stdout",
     "output_type": "stream",
     "text": [
      "0\n",
      "1\n",
      "2\n",
      "3\n",
      "4\n",
      "5\n",
      "6\n",
      "7\n",
      "8\n",
      "9\n"
     ]
    }
   ],
   "source": [
    "#While loops are used when you want to keep executing a block of code as long as a certain condition is met.\n",
    "#Example:-\n",
    "# print the numbers 0 to 9\n",
    "i = 0\n",
    "while i < 10:\n",
    "    print(i)\n",
    "    i += 1"
   ]
  },
  {
   "cell_type": "code",
   "execution_count": 4,
   "id": "9922423a-1702-4c46-b660-67060e4a3cb9",
   "metadata": {},
   "outputs": [
    {
     "name": "stdout",
     "output_type": "stream",
     "text": [
      "The sum of the first 10 natural numbers is: 55\n",
      "The product of the first 10 natural numbers is: 3628800\n"
     ]
    }
   ],
   "source": [
    "#Q2. Write a python program to print the sum and product of the first 10 natural numbers using for and while loop?\n",
    "sum = 0\n",
    "product = 1\n",
    "\n",
    "for i in range(1, 11):\n",
    "    sum += i\n",
    "    product *= i\n",
    "\n",
    "print(\"The sum of the first 10 natural numbers is:\", sum)\n",
    "print(\"The product of the first 10 natural numbers is:\", product)"
   ]
  },
  {
   "cell_type": "code",
   "execution_count": 5,
   "id": "a058aa86-80df-46fa-ad7e-d3e2a14ae22f",
   "metadata": {},
   "outputs": [
    {
     "name": "stdout",
     "output_type": "stream",
     "text": [
      "The sum of the first 10 natural numbers is: 55\n",
      "The product of the first 10 natural numbers is: 3628800\n"
     ]
    }
   ],
   "source": [
    "#while loop example:-\n",
    "sum = 0\n",
    "product = 1\n",
    "i = 1\n",
    "\n",
    "while i <= 10:\n",
    "    sum += i\n",
    "    product *= i\n",
    "    i += 1\n",
    "\n",
    "print(\"The sum of the first 10 natural numbers is:\", sum)\n",
    "print(\"The product of the first 10 natural numbers is:\", product)"
   ]
  },
  {
   "cell_type": "code",
   "execution_count": 6,
   "id": "e66ea6ca-1568-446e-a09b-0977a859005c",
   "metadata": {},
   "outputs": [
    {
     "name": "stdin",
     "output_type": "stream",
     "text": [
      "Enter the units of electricity consumed:  78\n"
     ]
    },
    {
     "name": "stdout",
     "output_type": "stream",
     "text": [
      "The total electricity bill is: Rs. 351.0\n"
     ]
    }
   ],
   "source": [
    "#Q3. Create a python program to compute the electricity bill for a household. The per-unit charges in rupees are as follows:\n",
    "#For the first 100 units, the user will be charged Rs. 4.5 per unit, for the next 100 units, the user will be charged Rs. 6 per\n",
    "#unit, and for the next 100 units, the user will be charged Rs. 10 per unit, After 300 units and above the user will be charged\n",
    "#Rs. 20 per unit. You are required to take the units of electricity consumed in a month from the user as input. Your program \n",
    "#must pass this test case: when the unit of electricity consumed by the user in a month is 310, the total electricity bill \n",
    "#should be 2250.\n",
    "units = int(input(\"Enter the units of electricity consumed: \"))\n",
    "\n",
    "if units <= 100:\n",
    "    bill = units * 4.5\n",
    "elif units <= 200:\n",
    "    bill = 100 * 4.5 + (units - 100) * 6\n",
    "elif units <= 300:\n",
    "    bill = 100 * 4.5 + 100 * 6 + (units - 200) * 10\n",
    "else:\n",
    "    bill = 100 * 4.5 + 100 * 6 + 100 * 10 + (units - 300) * 20\n",
    "\n",
    "print(\"The total electricity bill is: Rs.\", bill)"
   ]
  },
  {
   "cell_type": "code",
   "execution_count": 7,
   "id": "4ecf16e8-d04a-4ffd-be22-372c599fa2bd",
   "metadata": {},
   "outputs": [
    {
     "name": "stdout",
     "output_type": "stream",
     "text": [
      "The list of cubes that are divisible by 4 or 5: [8, 64, 125, 216, 512, 1000, 1728, 2744, 3375, 4096, 5832, 8000, 10648, 13824, 15625, 17576, 21952, 27000, 32768, 39304, 42875, 46656, 54872, 64000, 74088, 85184, 91125, 97336, 110592, 125000, 140608, 157464, 166375, 175616, 195112, 216000, 238328, 262144, 274625, 287496, 314432, 343000, 373248, 405224, 421875, 438976, 474552, 512000, 551368, 592704, 614125, 636056, 681472, 729000, 778688, 830584, 857375, 884736, 941192, 1000000]\n"
     ]
    }
   ],
   "source": [
    "#Q4. Create a list of numbers from 1 to 100. Use for loop and while loop to calculate the cube of each number and if the cube\n",
    "#of that number is divisible by 4 or 5 then append that number in a list and print that list.\n",
    "numbers = []\n",
    "cube_divisible = []\n",
    "\n",
    "for i in range(1, 101):\n",
    "    numbers.append(i)\n",
    "    cube = i ** 3\n",
    "    if cube % 4 == 0 or cube % 5 == 0:\n",
    "        cube_divisible.append(cube)\n",
    "\n",
    "print(\"The list of cubes that are divisible by 4 or 5:\", cube_divisible)"
   ]
  },
  {
   "cell_type": "code",
   "execution_count": 8,
   "id": "952530ea-2634-40d3-b8f4-909186cee386",
   "metadata": {},
   "outputs": [
    {
     "ename": "IndentationError",
     "evalue": "unexpected indent (3668774400.py, line 2)",
     "output_type": "error",
     "traceback": [
      "\u001b[0;36m  Cell \u001b[0;32mIn[8], line 2\u001b[0;36m\u001b[0m\n\u001b[0;31m    numbers = []\u001b[0m\n\u001b[0m    ^\u001b[0m\n\u001b[0;31mIndentationError\u001b[0m\u001b[0;31m:\u001b[0m unexpected indent\n"
     ]
    }
   ],
   "source": [
    " #the same program using a while loop-\n",
    "    numbers = []\n",
    "cube_divisible = []\n",
    "i = 1\n",
    "\n",
    "while i <= 100:\n",
    "    numbers.append(i)\n",
    "    cube = i ** 3\n",
    "    if cube % 4 == 0 or cube % 5 == 0:\n",
    "        cube_divisible.append(cube)\n",
    "    i += 1\n",
    "\n",
    "print(\"The list of cubes that are divisible by 4 or 5:\", cube_divisible)"
   ]
  },
  {
   "cell_type": "code",
   "execution_count": 9,
   "id": "f2389003-5f2e-48fe-8d6b-da137f231387",
   "metadata": {},
   "outputs": [
    {
     "name": "stdout",
     "output_type": "stream",
     "text": [
      "The list of cubes that are divisible by 4 or 5: [8, 64, 125, 216, 512, 1000, 1728, 2744, 3375, 4096, 5832, 8000, 10648, 13824, 15625, 17576, 21952, 27000, 32768, 39304, 42875, 46656, 54872, 64000, 74088, 85184, 91125, 97336, 110592, 125000, 140608, 157464, 166375, 175616, 195112, 216000, 238328, 262144, 274625, 287496, 314432, 343000, 373248, 405224, 421875, 438976, 474552, 512000, 551368, 592704, 614125, 636056, 681472, 729000, 778688, 830584, 857375, 884736, 941192, 1000000]\n"
     ]
    }
   ],
   "source": [
    "numbers = []\n",
    "cube_divisible = []\n",
    "i = 1\n",
    "\n",
    "while i <= 100:\n",
    "    numbers.append(i)\n",
    "    cube = i ** 3\n",
    "    if cube % 4 == 0 or cube % 5 == 0:\n",
    "        cube_divisible.append(cube)\n",
    "    i += 1\n",
    "\n",
    "print(\"The list of cubes that are divisible by 4 or 5:\", cube_divisible)"
   ]
  },
  {
   "cell_type": "code",
   "execution_count": 10,
   "id": "2bbbe9cf-3167-4c7d-a8d6-ae3f9f2b3132",
   "metadata": {},
   "outputs": [
    {
     "name": "stdout",
     "output_type": "stream",
     "text": [
      "The number of vowels in the string is: 12\n"
     ]
    }
   ],
   "source": [
    "#Q5. Write a program to filter count vowels in the below-given string. string = \"I want to become a data scientist\"\n",
    "string = \"I want to become a data scientist\"\n",
    "vowels = \"aeiouAEIOU\"\n",
    "count = 0\n",
    "\n",
    "for char in string:\n",
    "    if char in vowels:\n",
    "        count += 1\n",
    "\n",
    "print(\"The number of vowels in the string is:\", count)"
   ]
  },
  {
   "cell_type": "code",
   "execution_count": null,
   "id": "29393df0-8469-4b9d-9a8d-ba9ca1e22096",
   "metadata": {},
   "outputs": [],
   "source": []
  }
 ],
 "metadata": {
  "kernelspec": {
   "display_name": "Python 3 (ipykernel)",
   "language": "python",
   "name": "python3"
  },
  "language_info": {
   "codemirror_mode": {
    "name": "ipython",
    "version": 3
   },
   "file_extension": ".py",
   "mimetype": "text/x-python",
   "name": "python",
   "nbconvert_exporter": "python",
   "pygments_lexer": "ipython3",
   "version": "3.10.8"
  }
 },
 "nbformat": 4,
 "nbformat_minor": 5
}
